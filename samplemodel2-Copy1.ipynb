{
 "cells": [
  {
   "cell_type": "markdown",
   "id": "a2c5ba18",
   "metadata": {},
   "source": [
    "<h2>Objective</h2>"
   ]
  },
  {
   "cell_type": "markdown",
   "id": "aeb979e1",
   "metadata": {},
   "source": [
    "<h3> the main objectuve of this notebook is to make use tranfer learning to make a working protoype model of image classification on the small sample images of plants.</h3>\n",
    "\n",
    "**evaluation metric**\n",
    "\n",
    "<u>if the we can make a small dataset from the whole dataset and train any model on basis of it .</u>\n",
    "\n",
    "then we can use those functions to train various models and find out the best model for our dataset."
   ]
  },
  {
   "cell_type": "code",
   "execution_count": 1,
   "id": "9510ad72",
   "metadata": {},
   "outputs": [],
   "source": [
    "# ignoring all the warnings\n",
    "import warnings\n",
    "warnings.filterwarnings('ignore')"
   ]
  },
  {
   "cell_type": "code",
   "execution_count": 2,
   "id": "1b7368ae",
   "metadata": {},
   "outputs": [
    {
     "name": "stderr",
     "output_type": "stream",
     "text": [
      "2023-04-16 13:47:55.524894: I tensorflow/tsl/cuda/cudart_stub.cc:28] Could not find cuda drivers on your machine, GPU will not be used.\n",
      "2023-04-16 13:47:57.846607: I tensorflow/tsl/cuda/cudart_stub.cc:28] Could not find cuda drivers on your machine, GPU will not be used.\n",
      "2023-04-16 13:47:57.850332: I tensorflow/core/platform/cpu_feature_guard.cc:182] This TensorFlow binary is optimized to use available CPU instructions in performance-critical operations.\n",
      "To enable the following instructions: AVX2 FMA, in other operations, rebuild TensorFlow with the appropriate compiler flags.\n",
      "2023-04-16 13:48:02.537251: W tensorflow/compiler/tf2tensorrt/utils/py_utils.cc:38] TF-TRT Warning: Could not find TensorRT\n"
     ]
    }
   ],
   "source": [
    "# importing the necessary libraries\n",
    "\n",
    "import numpy as np\n",
    "import pandas as pd\n",
    "import cv2\n",
    "\n",
    "import PIL.Image as Image\n",
    "import os\n",
    "\n",
    "import matplotlib.pylab as plt\n",
    "import seaborn as sns\n",
    "\n",
    "import tensorflow as tf\n",
    "import tensorflow_hub as hub\n",
    "\n",
    "from tensorflow import keras\n",
    "from tensorflow.keras import layers\n",
    "from tensorflow.keras.models import Sequential"
   ]
  },
  {
   "cell_type": "code",
   "execution_count": null,
   "id": "6fd015a6",
   "metadata": {},
   "outputs": [],
   "source": [
    "# importing the metadata.csv with all the path to images and their labels\n",
    "\n",
    "tdata=pd.read_csv(r'/home/drowsy/Downloads/data/PlantCLEF2022_trusted_training_metadata.csv',delimiter=';')\n",
    "wdata=pd.read_csv(r'/home/drowsy/Downloads/data/PlantCLEF2022_web_training_metadata.csv',delimiter=';')"
   ]
  },
  {
   "cell_type": "code",
   "execution_count": null,
   "id": "a8ad2cd5",
   "metadata": {},
   "outputs": [],
   "source": [
    "# directory of the images to train the model.\n",
    "\n",
    "data_dir='/home/drowsy/Downloads/data/train/images'\n",
    "\n",
    "# converting the path to pathlib for easy anvigation\n",
    "\n",
    "import pathlib\n",
    "data_dir = pathlib.Path(data_dir)\n",
    "data_dir"
   ]
  },
  {
   "cell_type": "markdown",
   "id": "14ce4bc1",
   "metadata": {},
   "source": [
    "**-------------------------------------------------------------------------------------------------------------------------------------------------------------------------------------------------------------------**"
   ]
  },
  {
   "cell_type": "code",
   "execution_count": null,
   "id": "1784de44",
   "metadata": {},
   "outputs": [],
   "source": [
    "# concating the classid and species of the images\n",
    "tdata['labels']=tdata['classid'].astype('str')+'$'+tdata['species'].astype('str')"
   ]
  },
  {
   "cell_type": "code",
   "execution_count": null,
   "id": "229c8d9c",
   "metadata": {},
   "outputs": [],
   "source": [
    "labels_df2=tdata['labels'].unique()\n",
    "type(labels_df2)"
   ]
  },
  {
   "cell_type": "code",
   "execution_count": null,
   "id": "3209a7df",
   "metadata": {},
   "outputs": [],
   "source": [
    "# making a dict with classid as key and name of plant species as value\n",
    "\n",
    "def get_labels(labels):\n",
    "    label_dict={}\n",
    "    for i in range(len(labels)):\n",
    "        label_dict[str(labels[i]).split('$')[0]]=str(labels[i]).split('$')[1]\n",
    "    return label_dict\n",
    "\n",
    "plant_all_label_dict=get_labels(labels_df2)\n",
    "plant_all_label_dict"
   ]
  },
  {
   "cell_type": "code",
   "execution_count": null,
   "id": "968d62b8",
   "metadata": {
    "scrolled": true
   },
   "outputs": [],
   "source": [
    "# making a dict with name of folder as key \n",
    "# and putting the path of all images inside the folder as a list in the dict as values.\n",
    "\n",
    "def get_images1(labels):\n",
    "    images_dict={}\n",
    "#     labels are the list of all the path of subfolders in directory\n",
    "#     labels=list(dirc.glob('*'))\n",
    "    for i in range(len(labels)):\n",
    "#         putting the name of folder inside main dir in key of dict \n",
    "#         putting all the images in the folder in list , in value of dict\n",
    "        images_dict[str(labels[i]).split('/')[-2]]=list(labels[i].parent.glob('*'))\n",
    "    return images_dict\n",
    "\n",
    "get_images1(list(data_dir.glob('*/*'))[:20])"
   ]
  },
  {
   "cell_type": "code",
   "execution_count": null,
   "id": "c99ab21d",
   "metadata": {},
   "outputs": [],
   "source": [
    "path_list=list(data_dir.glob('*/*'))[:200]\n",
    "plant_2kimages_dict=get_images1(path_list)"
   ]
  },
  {
   "cell_type": "markdown",
   "id": "103f0351",
   "metadata": {},
   "source": [
    "**-------------------------------------------------------------------------------------------------------------------------------------------------------------------------------------------------------------------**"
   ]
  },
  {
   "cell_type": "markdown",
   "id": "23ce25e6",
   "metadata": {},
   "source": [
    "**-------------------------------------------------------------------------------------------------------------------------------------------------------------------------------------------------------------**"
   ]
  },
  {
   "cell_type": "code",
   "execution_count": null,
   "id": "e6fa4ce3",
   "metadata": {},
   "outputs": [],
   "source": [
    "# processing the images into a list for training set \n",
    "# which will be used for training the model\n",
    "\n",
    "def img_read(image_dict,label_dict):\n",
    "    x=[]\n",
    "    y=[]\n",
    "    sum1=0\n",
    "    for nameid,images in image_dict.items():\n",
    "        for image in images:\n",
    "            img=cv2.imread(str(image))\n",
    "            resized_img=cv2.resize(img,(512,512))\n",
    "            x.append(resized_img)\n",
    "            y.append(label_dict[nameid])\n",
    "            sum1=sum1+1\n",
    "            print('number : ',sum1)\n",
    "        \n",
    "    x=np.array(x)\n",
    "    y=np.array(y)\n",
    "    return x,y"
   ]
  },
  {
   "cell_type": "code",
   "execution_count": 24,
   "id": "59747424",
   "metadata": {},
   "outputs": [
    {
     "data": {
      "text/plain": [
       "296"
      ]
     },
     "execution_count": 24,
     "metadata": {},
     "output_type": "execute_result"
    }
   ],
   "source": [
    "count=0\n",
    "for i,j in plant_2kimages_dict.items():\n",
    "    for k in j:\n",
    "        count+=1\n",
    "    \n",
    "count"
   ]
  },
  {
   "cell_type": "code",
   "execution_count": null,
   "id": "5c2eea07",
   "metadata": {},
   "outputs": [],
   "source": [
    "X,y=img_read(plant_2kimages_dict,plant_all_label_dict)"
   ]
  },
  {
   "cell_type": "code",
   "execution_count": null,
   "id": "c240a659",
   "metadata": {},
   "outputs": [],
   "source": [
    "# from sklearn.model_selection import train_test_split"
   ]
  },
  {
   "cell_type": "markdown",
   "id": "15e8694c",
   "metadata": {},
   "source": [
    "**-------------------------------------------------------------------------------------------------------------------------------------------------------------------------------------------------------------**"
   ]
  },
  {
   "cell_type": "code",
   "execution_count": null,
   "id": "5f38fe6f",
   "metadata": {},
   "outputs": [],
   "source": []
  },
  {
   "cell_type": "markdown",
   "id": "2a65fac9",
   "metadata": {},
   "source": [
    "**-------------------------------------------------------------------------------------------------------------------------------------------------------------------------------------------------------------**"
   ]
  },
  {
   "cell_type": "markdown",
   "id": "d1865f5a",
   "metadata": {},
   "source": [
    "**-------------------------------------------------------------------------------------------------------------------------------------------------------------------------------------------------------------**"
   ]
  },
  {
   "cell_type": "markdown",
   "id": "f7a9ea43",
   "metadata": {},
   "source": [
    "# `pretrained model with input image shape 512x512 , without final layer`"
   ]
  },
  {
   "cell_type": "code",
   "execution_count": 3,
   "id": "c0a45e74",
   "metadata": {},
   "outputs": [],
   "source": [
    "pre_trained_model=hub.KerasLayer(\"https://tfhub.dev/google/imagenet/efficientnet_v2_imagenet21k_ft1k_xl/feature_vector/2\",\n",
    "                                 input_shape=(512, 512, 3), trainable=True)\n"
   ]
  },
  {
   "cell_type": "code",
   "execution_count": 7,
   "id": "958c68ec",
   "metadata": {},
   "outputs": [
    {
     "ename": "NameError",
     "evalue": "name 'plant_all_labels_dict' is not defined",
     "output_type": "error",
     "traceback": [
      "\u001b[0;31m---------------------------------------------------------------------------\u001b[0m",
      "\u001b[0;31mNameError\u001b[0m                                 Traceback (most recent call last)",
      "Cell \u001b[0;32mIn[7], line 1\u001b[0m\n\u001b[0;32m----> 1\u001b[0m num_of_plants \u001b[38;5;241m=\u001b[39m \u001b[38;5;28mlen\u001b[39m(\u001b[43mplant_all_labels_dict\u001b[49m)\n",
      "\u001b[0;31mNameError\u001b[0m: name 'plant_all_labels_dict' is not defined"
     ]
    }
   ],
   "source": [
    "num_of_plants = len(plant_all_labels_dict)"
   ]
  },
  {
   "cell_type": "code",
   "execution_count": 5,
   "id": "eb403ca9",
   "metadata": {},
   "outputs": [],
   "source": [
    "model=keras.models.Sequential(\n",
    "    pre_trained_model,\n",
    "    layers.Dense(80000)\n",
    ")"
   ]
  },
  {
   "cell_type": "code",
   "execution_count": 8,
   "id": "746b64c0",
   "metadata": {},
   "outputs": [],
   "source": [
    "model.compile()"
   ]
  },
  {
   "cell_type": "markdown",
   "id": "68171e6a",
   "metadata": {},
   "source": [
    "**-------------------------------------------------------------------------------------------------------------------------------------------------------------------------------------------------------------**"
   ]
  },
  {
   "cell_type": "code",
   "execution_count": 12,
   "id": "3f36143c",
   "metadata": {},
   "outputs": [
    {
     "data": {
      "text/plain": [
       "['./models/model_pre_efficientnet_v2_imagenet21k_ft1k_xl.joblib']"
      ]
     },
     "execution_count": 12,
     "metadata": {},
     "output_type": "execute_result"
    }
   ],
   "source": [
    "from joblib import load,dump\n",
    "\n",
    "dump(model,filename='./models/model_pre_efficientnet_v2_imagenet21k_ft1k_xl.joblib')"
   ]
  },
  {
   "cell_type": "code",
   "execution_count": null,
   "id": "70cac928",
   "metadata": {},
   "outputs": [],
   "source": [
    "loaded_model=load(filename='model_pre_name.joblib')"
   ]
  },
  {
   "cell_type": "code",
   "execution_count": null,
   "id": "c9226e7f",
   "metadata": {
    "collapsed": true
   },
   "outputs": [],
   "source": []
  },
  {
   "cell_type": "code",
   "execution_count": null,
   "id": "5ab14472",
   "metadata": {},
   "outputs": [],
   "source": []
  },
  {
   "cell_type": "code",
   "execution_count": null,
   "id": "fa1a6c1d",
   "metadata": {},
   "outputs": [],
   "source": []
  },
  {
   "cell_type": "code",
   "execution_count": null,
   "id": "c3c4348f",
   "metadata": {},
   "outputs": [],
   "source": []
  }
 ],
 "metadata": {
  "kernelspec": {
   "display_name": "Python 3 (ipykernel)",
   "language": "python",
   "name": "python3"
  },
  "language_info": {
   "codemirror_mode": {
    "name": "ipython",
    "version": 3
   },
   "file_extension": ".py",
   "mimetype": "text/x-python",
   "name": "python",
   "nbconvert_exporter": "python",
   "pygments_lexer": "ipython3",
   "version": "3.10.9"
  }
 },
 "nbformat": 4,
 "nbformat_minor": 5
}
