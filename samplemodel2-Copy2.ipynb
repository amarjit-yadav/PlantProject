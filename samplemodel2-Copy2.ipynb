{
 "cells": [
  {
   "cell_type": "markdown",
   "id": "a2c5ba18",
   "metadata": {},
   "source": [
    "<h2>Objective</h2>"
   ]
  },
  {
   "cell_type": "markdown",
   "id": "aeb979e1",
   "metadata": {},
   "source": [
    "<h3> the main objectuve of this notebook is to make use tranfer learning to make a working protoype model of image classification on the small sample images of plants.</h3>\n",
    "\n",
    "**evaluation metric**\n",
    "\n",
    "<u>if the we can make a small dataset from the whole dataset and train any model on basis of it .</u>\n",
    "\n",
    "then we can use those functions to train various models and find out the best model for our dataset."
   ]
  },
  {
   "cell_type": "code",
   "execution_count": 1,
   "id": "9510ad72",
   "metadata": {},
   "outputs": [],
   "source": [
    "# ignoring all the warnings\n",
    "import warnings\n",
    "warnings.filterwarnings('ignore')"
   ]
  },
  {
   "cell_type": "code",
   "execution_count": 2,
   "id": "1b7368ae",
   "metadata": {},
   "outputs": [],
   "source": [
    "# importing the necessary libraries\n",
    "\n",
    "import numpy as np\n",
    "import pandas as pd\n",
    "import cv2\n",
    "\n",
    "import PIL.Image as Image\n",
    "import pathlib\n",
    "\n",
    "import os\n",
    "\n",
    "import matplotlib.pylab as plt\n",
    "import seaborn as sns\n",
    "\n",
    "import tensorflow as tf\n",
    "import tensorflow_hub as hub\n",
    "\n",
    "from sklearn.preprocessing import LabelEncoder\n",
    "from tensorflow.keras.utils import to_categorical\n",
    "from sklearn.preprocessing import StandardScaler\n",
    "\n",
    "from tensorflow import keras\n",
    "from tensorflow.keras import layers\n",
    "from tensorflow.keras.models import Sequential"
   ]
  },
  {
   "cell_type": "code",
   "execution_count": 3,
   "id": "6fd015a6",
   "metadata": {},
   "outputs": [
    {
     "ename": "FileNotFoundError",
     "evalue": "[Errno 2] No such file or directory: 'C:/Users/WELCOME/Documents/PlantProject-master/data/PlantCLEF2022_trusted_training_metadata.csv'",
     "output_type": "error",
     "traceback": [
      "\u001b[1;31m---------------------------------------------------------------------------\u001b[0m",
      "\u001b[1;31mFileNotFoundError\u001b[0m                         Traceback (most recent call last)",
      "\u001b[1;32m~\\AppData\\Local\\Temp\\ipykernel_9600\\3187200768.py\u001b[0m in \u001b[0;36m<module>\u001b[1;34m\u001b[0m\n\u001b[0;32m      1\u001b[0m \u001b[1;31m# importing the metadata.csv with all the path to images and their labels\u001b[0m\u001b[1;33m\u001b[0m\u001b[1;33m\u001b[0m\u001b[0m\n\u001b[0;32m      2\u001b[0m \u001b[1;33m\u001b[0m\u001b[0m\n\u001b[1;32m----> 3\u001b[1;33m \u001b[0mtdata\u001b[0m\u001b[1;33m=\u001b[0m\u001b[0mpd\u001b[0m\u001b[1;33m.\u001b[0m\u001b[0mread_csv\u001b[0m\u001b[1;33m(\u001b[0m\u001b[1;34m\"C:/Users/WELCOME/Documents/PlantProject-master/data/PlantCLEF2022_trusted_training_metadata.csv\"\u001b[0m\u001b[1;33m,\u001b[0m\u001b[0mdelimiter\u001b[0m\u001b[1;33m=\u001b[0m\u001b[1;34m';'\u001b[0m\u001b[1;33m)\u001b[0m\u001b[1;33m\u001b[0m\u001b[1;33m\u001b[0m\u001b[0m\n\u001b[0m\u001b[0;32m      4\u001b[0m \u001b[1;31m# wdata=pd.read_csv(r'/home/drowsy/Downloads/data/PlantCLEF2022_web_training_metadata.csv',delimiter=';')\u001b[0m\u001b[1;33m\u001b[0m\u001b[1;33m\u001b[0m\u001b[0m\n\u001b[0;32m      5\u001b[0m \u001b[1;31m# tdata=pd.read_csv('/home/drowsy/Downloads/data/PlantCLEF2022_trusted_training_metadata.csv',delimiter=';')\u001b[0m\u001b[1;33m\u001b[0m\u001b[1;33m\u001b[0m\u001b[0m\n",
      "\u001b[1;32m~\\anaconda3\\lib\\site-packages\\pandas\\util\\_decorators.py\u001b[0m in \u001b[0;36mwrapper\u001b[1;34m(*args, **kwargs)\u001b[0m\n\u001b[0;32m    309\u001b[0m                     \u001b[0mstacklevel\u001b[0m\u001b[1;33m=\u001b[0m\u001b[0mstacklevel\u001b[0m\u001b[1;33m,\u001b[0m\u001b[1;33m\u001b[0m\u001b[1;33m\u001b[0m\u001b[0m\n\u001b[0;32m    310\u001b[0m                 )\n\u001b[1;32m--> 311\u001b[1;33m             \u001b[1;32mreturn\u001b[0m \u001b[0mfunc\u001b[0m\u001b[1;33m(\u001b[0m\u001b[1;33m*\u001b[0m\u001b[0margs\u001b[0m\u001b[1;33m,\u001b[0m \u001b[1;33m**\u001b[0m\u001b[0mkwargs\u001b[0m\u001b[1;33m)\u001b[0m\u001b[1;33m\u001b[0m\u001b[1;33m\u001b[0m\u001b[0m\n\u001b[0m\u001b[0;32m    312\u001b[0m \u001b[1;33m\u001b[0m\u001b[0m\n\u001b[0;32m    313\u001b[0m         \u001b[1;32mreturn\u001b[0m \u001b[0mwrapper\u001b[0m\u001b[1;33m\u001b[0m\u001b[1;33m\u001b[0m\u001b[0m\n",
      "\u001b[1;32m~\\anaconda3\\lib\\site-packages\\pandas\\io\\parsers\\readers.py\u001b[0m in \u001b[0;36mread_csv\u001b[1;34m(filepath_or_buffer, sep, delimiter, header, names, index_col, usecols, squeeze, prefix, mangle_dupe_cols, dtype, engine, converters, true_values, false_values, skipinitialspace, skiprows, skipfooter, nrows, na_values, keep_default_na, na_filter, verbose, skip_blank_lines, parse_dates, infer_datetime_format, keep_date_col, date_parser, dayfirst, cache_dates, iterator, chunksize, compression, thousands, decimal, lineterminator, quotechar, quoting, doublequote, escapechar, comment, encoding, encoding_errors, dialect, error_bad_lines, warn_bad_lines, on_bad_lines, delim_whitespace, low_memory, memory_map, float_precision, storage_options)\u001b[0m\n\u001b[0;32m    676\u001b[0m     \u001b[0mkwds\u001b[0m\u001b[1;33m.\u001b[0m\u001b[0mupdate\u001b[0m\u001b[1;33m(\u001b[0m\u001b[0mkwds_defaults\u001b[0m\u001b[1;33m)\u001b[0m\u001b[1;33m\u001b[0m\u001b[1;33m\u001b[0m\u001b[0m\n\u001b[0;32m    677\u001b[0m \u001b[1;33m\u001b[0m\u001b[0m\n\u001b[1;32m--> 678\u001b[1;33m     \u001b[1;32mreturn\u001b[0m \u001b[0m_read\u001b[0m\u001b[1;33m(\u001b[0m\u001b[0mfilepath_or_buffer\u001b[0m\u001b[1;33m,\u001b[0m \u001b[0mkwds\u001b[0m\u001b[1;33m)\u001b[0m\u001b[1;33m\u001b[0m\u001b[1;33m\u001b[0m\u001b[0m\n\u001b[0m\u001b[0;32m    679\u001b[0m \u001b[1;33m\u001b[0m\u001b[0m\n\u001b[0;32m    680\u001b[0m \u001b[1;33m\u001b[0m\u001b[0m\n",
      "\u001b[1;32m~\\anaconda3\\lib\\site-packages\\pandas\\io\\parsers\\readers.py\u001b[0m in \u001b[0;36m_read\u001b[1;34m(filepath_or_buffer, kwds)\u001b[0m\n\u001b[0;32m    573\u001b[0m \u001b[1;33m\u001b[0m\u001b[0m\n\u001b[0;32m    574\u001b[0m     \u001b[1;31m# Create the parser.\u001b[0m\u001b[1;33m\u001b[0m\u001b[1;33m\u001b[0m\u001b[0m\n\u001b[1;32m--> 575\u001b[1;33m     \u001b[0mparser\u001b[0m \u001b[1;33m=\u001b[0m \u001b[0mTextFileReader\u001b[0m\u001b[1;33m(\u001b[0m\u001b[0mfilepath_or_buffer\u001b[0m\u001b[1;33m,\u001b[0m \u001b[1;33m**\u001b[0m\u001b[0mkwds\u001b[0m\u001b[1;33m)\u001b[0m\u001b[1;33m\u001b[0m\u001b[1;33m\u001b[0m\u001b[0m\n\u001b[0m\u001b[0;32m    576\u001b[0m \u001b[1;33m\u001b[0m\u001b[0m\n\u001b[0;32m    577\u001b[0m     \u001b[1;32mif\u001b[0m \u001b[0mchunksize\u001b[0m \u001b[1;32mor\u001b[0m \u001b[0miterator\u001b[0m\u001b[1;33m:\u001b[0m\u001b[1;33m\u001b[0m\u001b[1;33m\u001b[0m\u001b[0m\n",
      "\u001b[1;32m~\\anaconda3\\lib\\site-packages\\pandas\\io\\parsers\\readers.py\u001b[0m in \u001b[0;36m__init__\u001b[1;34m(self, f, engine, **kwds)\u001b[0m\n\u001b[0;32m    930\u001b[0m \u001b[1;33m\u001b[0m\u001b[0m\n\u001b[0;32m    931\u001b[0m         \u001b[0mself\u001b[0m\u001b[1;33m.\u001b[0m\u001b[0mhandles\u001b[0m\u001b[1;33m:\u001b[0m \u001b[0mIOHandles\u001b[0m \u001b[1;33m|\u001b[0m \u001b[1;32mNone\u001b[0m \u001b[1;33m=\u001b[0m \u001b[1;32mNone\u001b[0m\u001b[1;33m\u001b[0m\u001b[1;33m\u001b[0m\u001b[0m\n\u001b[1;32m--> 932\u001b[1;33m         \u001b[0mself\u001b[0m\u001b[1;33m.\u001b[0m\u001b[0m_engine\u001b[0m \u001b[1;33m=\u001b[0m \u001b[0mself\u001b[0m\u001b[1;33m.\u001b[0m\u001b[0m_make_engine\u001b[0m\u001b[1;33m(\u001b[0m\u001b[0mf\u001b[0m\u001b[1;33m,\u001b[0m \u001b[0mself\u001b[0m\u001b[1;33m.\u001b[0m\u001b[0mengine\u001b[0m\u001b[1;33m)\u001b[0m\u001b[1;33m\u001b[0m\u001b[1;33m\u001b[0m\u001b[0m\n\u001b[0m\u001b[0;32m    933\u001b[0m \u001b[1;33m\u001b[0m\u001b[0m\n\u001b[0;32m    934\u001b[0m     \u001b[1;32mdef\u001b[0m \u001b[0mclose\u001b[0m\u001b[1;33m(\u001b[0m\u001b[0mself\u001b[0m\u001b[1;33m)\u001b[0m\u001b[1;33m:\u001b[0m\u001b[1;33m\u001b[0m\u001b[1;33m\u001b[0m\u001b[0m\n",
      "\u001b[1;32m~\\anaconda3\\lib\\site-packages\\pandas\\io\\parsers\\readers.py\u001b[0m in \u001b[0;36m_make_engine\u001b[1;34m(self, f, engine)\u001b[0m\n\u001b[0;32m   1214\u001b[0m             \u001b[1;31m# \"Union[str, PathLike[str], ReadCsvBuffer[bytes], ReadCsvBuffer[str]]\"\u001b[0m\u001b[1;33m\u001b[0m\u001b[1;33m\u001b[0m\u001b[0m\n\u001b[0;32m   1215\u001b[0m             \u001b[1;31m# , \"str\", \"bool\", \"Any\", \"Any\", \"Any\", \"Any\", \"Any\"\u001b[0m\u001b[1;33m\u001b[0m\u001b[1;33m\u001b[0m\u001b[0m\n\u001b[1;32m-> 1216\u001b[1;33m             self.handles = get_handle(  # type: ignore[call-overload]\n\u001b[0m\u001b[0;32m   1217\u001b[0m                 \u001b[0mf\u001b[0m\u001b[1;33m,\u001b[0m\u001b[1;33m\u001b[0m\u001b[1;33m\u001b[0m\u001b[0m\n\u001b[0;32m   1218\u001b[0m                 \u001b[0mmode\u001b[0m\u001b[1;33m,\u001b[0m\u001b[1;33m\u001b[0m\u001b[1;33m\u001b[0m\u001b[0m\n",
      "\u001b[1;32m~\\anaconda3\\lib\\site-packages\\pandas\\io\\common.py\u001b[0m in \u001b[0;36mget_handle\u001b[1;34m(path_or_buf, mode, encoding, compression, memory_map, is_text, errors, storage_options)\u001b[0m\n\u001b[0;32m    784\u001b[0m         \u001b[1;32mif\u001b[0m \u001b[0mioargs\u001b[0m\u001b[1;33m.\u001b[0m\u001b[0mencoding\u001b[0m \u001b[1;32mand\u001b[0m \u001b[1;34m\"b\"\u001b[0m \u001b[1;32mnot\u001b[0m \u001b[1;32min\u001b[0m \u001b[0mioargs\u001b[0m\u001b[1;33m.\u001b[0m\u001b[0mmode\u001b[0m\u001b[1;33m:\u001b[0m\u001b[1;33m\u001b[0m\u001b[1;33m\u001b[0m\u001b[0m\n\u001b[0;32m    785\u001b[0m             \u001b[1;31m# Encoding\u001b[0m\u001b[1;33m\u001b[0m\u001b[1;33m\u001b[0m\u001b[0m\n\u001b[1;32m--> 786\u001b[1;33m             handle = open(\n\u001b[0m\u001b[0;32m    787\u001b[0m                 \u001b[0mhandle\u001b[0m\u001b[1;33m,\u001b[0m\u001b[1;33m\u001b[0m\u001b[1;33m\u001b[0m\u001b[0m\n\u001b[0;32m    788\u001b[0m                 \u001b[0mioargs\u001b[0m\u001b[1;33m.\u001b[0m\u001b[0mmode\u001b[0m\u001b[1;33m,\u001b[0m\u001b[1;33m\u001b[0m\u001b[1;33m\u001b[0m\u001b[0m\n",
      "\u001b[1;31mFileNotFoundError\u001b[0m: [Errno 2] No such file or directory: 'C:/Users/WELCOME/Documents/PlantProject-master/data/PlantCLEF2022_trusted_training_metadata.csv'"
     ]
    }
   ],
   "source": [
    "# importing the metadata.csv with all the path to images and their labels\n",
    "\n",
    "tdata=pd.read_csv(\"C:/Users/WELCOME/Documents/PlantProject-master/data/PlantCLEF2022_trusted_training_metadata.csv\",delimiter=';')\n",
    "# wdata=pd.read_csv(r'/home/drowsy/Downloads/data/PlantCLEF2022_web_training_metadata.csv',delimiter=';')\n",
    "# tdata=pd.read_csv('/home/drowsy/Downloads/data/PlantCLEF2022_trusted_training_metadata.csv',delimiter=';')\n",
    "# wdata=pd.read_csv('/home/drowsy/Downloads/data/PlantCLEF2022_web_training_metadata.csv',delimiter=';')"
   ]
  },
  {
   "cell_type": "markdown",
   "id": "55fca256",
   "metadata": {},
   "source": [
    "**getting all the number of classes for rach type of label**"
   ]
  },
  {
   "cell_type": "code",
   "execution_count": null,
   "id": "b4ee4a91",
   "metadata": {},
   "outputs": [],
   "source": [
    "print(len(tdata['class'].unique()),\n",
    "len(tdata['order'].unique()),\n",
    "len(tdata['family'].unique()),\n",
    "len(tdata['genus'].unique()),\n",
    "len(tdata['species'].unique()))"
   ]
  },
  {
   "cell_type": "code",
   "execution_count": null,
   "id": "a8ad2cd5",
   "metadata": {},
   "outputs": [],
   "source": [
    "# directory of the images to train the model.\n",
    "data_dir='C:/Users/WELCOME/Documents/PlantProject-master/data/images'\n",
    "# converting the path to pathlib for easy anvigation\n",
    "data_dir = pathlib.Path(data_dir)\n",
    "data_dir"
   ]
  },
  {
   "cell_type": "markdown",
   "id": "14ce4bc1",
   "metadata": {},
   "source": [
    "**-------------------------------------------------------------------------------------------------------------------------------------------------------------------------------------------------------------------**"
   ]
  },
  {
   "cell_type": "code",
   "execution_count": null,
   "id": "84a54ebb",
   "metadata": {},
   "outputs": [],
   "source": [
    "\n",
    "# input should be names of columns , 1st should be key and second should be values and \n",
    "# 3rd as dataframe with 1 and 2 as columns\n",
    "def get_labels_on(df,column1,column2):\n",
    "    df['label']=df[column1].astype('str')+'$'+df[column2].astype('str')\n",
    "    label_array=df['label'].unique()\n",
    "    print(label_array)\n",
    "    label_dict={}\n",
    "    for label in label_array:\n",
    "        label_dict.setdefault(str(label).split('$')[0],[]).append(str(label).split('$')[1])\n",
    "    return label_dict\n",
    "\n",
    "# output is dict with the target label as key and the classid that is folder name with images in them as values of key\n",
    "family_labels=get_labels_on(tdata,'family','classid')"
   ]
  },
  {
   "cell_type": "markdown",
   "id": "1465e31b",
   "metadata": {},
   "source": [
    "make a dict with class names as key and path of image as values\n",
    "\tmerge all the keys where classid matches to the same class"
   ]
  },
  {
   "cell_type": "code",
   "execution_count": null,
   "id": "6a4dae6d",
   "metadata": {},
   "outputs": [],
   "source": [
    "# making a dict with class as key and classid as values\n"
   ]
  },
  {
   "cell_type": "code",
   "execution_count": null,
   "id": "968d62b8",
   "metadata": {
    "scrolled": true
   },
   "outputs": [],
   "source": [
    "# making a dict with name of folder as key \n",
    "# and putting the path of all images inside the folder as a list in the dict as values.\n",
    "\n",
    "def get_class_and_path(f,l,path):\n",
    "    labels=list(path.glob('*/*'))[f:l]\n",
    "    images_dict={}\n",
    "#     labels are the list of all the path of subfolders in directory\n",
    "#     labels=list(dirc.glob('*'))\n",
    "    for label in labels:\n",
    "        key=str(label).split('\\\\')[-2]\n",
    "        val=str(label).split('\\\\')[-1]\n",
    "        images_dict.setdefault(key,[]).append(val)        \n",
    "#         putting the name of folder inside main dir in key of dict \n",
    "#         putting all the images in the folder in list , in value of dict\n",
    "    return images_dict"
   ]
  },
  {
   "cell_type": "code",
   "execution_count": 4,
   "id": "c99ab21d",
   "metadata": {},
   "outputs": [
    {
     "ename": "NameError",
     "evalue": "name 'get_class_and_path' is not defined",
     "output_type": "error",
     "traceback": [
      "\u001b[1;31m---------------------------------------------------------------------------\u001b[0m",
      "\u001b[1;31mNameError\u001b[0m                                 Traceback (most recent call last)",
      "\u001b[1;32m~\\AppData\\Local\\Temp\\ipykernel_9600\\856741606.py\u001b[0m in \u001b[0;36m<module>\u001b[1;34m\u001b[0m\n\u001b[1;32m----> 1\u001b[1;33m \u001b[0mplant_images_dict\u001b[0m\u001b[1;33m=\u001b[0m\u001b[0mget_class_and_path\u001b[0m\u001b[1;33m(\u001b[0m\u001b[1;36m0\u001b[0m\u001b[1;33m,\u001b[0m\u001b[1;36m5000\u001b[0m\u001b[1;33m,\u001b[0m\u001b[0mdata_dir\u001b[0m\u001b[1;33m)\u001b[0m\u001b[1;33m\u001b[0m\u001b[1;33m\u001b[0m\u001b[0m\n\u001b[0m",
      "\u001b[1;31mNameError\u001b[0m: name 'get_class_and_path' is not defined"
     ]
    }
   ],
   "source": [
    "plant_images_dict=get_class_and_path(0,5000,data_dir)"
   ]
  },
  {
   "cell_type": "markdown",
   "id": "103f0351",
   "metadata": {},
   "source": [
    "**-------------------------------------------------------------------------------------------------------------------------------------------------------------------------------------------------------------------**"
   ]
  },
  {
   "cell_type": "code",
   "execution_count": null,
   "id": "54c1ff1d",
   "metadata": {},
   "outputs": [],
   "source": [
    "\n",
    "def gen_batch(img_dict,label_dict,path):\n",
    "    X=[]\n",
    "    y=[]\n",
    "    cnt=0\n",
    "    for k_val,i_vals in img_dict.items():\n",
    "        value = [i for i in label_dict if k_val in label_dict[i]]\n",
    "        for i_val in i_vals:\n",
    "            path_val=str(data_dir)+'\\\\'+k_val+'\\\\'+i_val\n",
    "            img=cv2.imread(path_val)\n",
    "            resized_img=cv2.resize(img,(224,224))\n",
    "            X.append(resized_img)\n",
    "            y.append(value[0])\n",
    "        cnt+=1\n",
    "        print(k_val,cnt)\n",
    "    return X,y"
   ]
  },
  {
   "cell_type": "code",
   "execution_count": null,
   "id": "5c2eea07",
   "metadata": {
    "scrolled": true
   },
   "outputs": [],
   "source": [
    "X,y=gen_batch(plant_images_dict,family_labels,data_dir)\n",
    "len(X)"
   ]
  },
  {
   "cell_type": "code",
   "execution_count": null,
   "id": "c240a659",
   "metadata": {},
   "outputs": [],
   "source": [
    "# from sklearn.model_selection import train_test_split"
   ]
  },
  {
   "cell_type": "markdown",
   "id": "15e8694c",
   "metadata": {},
   "source": [
    "**-----------------------------------------------------------------------------------------------------------------------------------------------------------------------------------------------------------**"
   ]
  },
  {
   "cell_type": "code",
   "execution_count": null,
   "id": "9fab2f17",
   "metadata": {},
   "outputs": [],
   "source": [
    "def img_eng(X,y):\n",
    "    X=np.array(X)\n",
    "    y=np.array(y)\n",
    "    print('converted to array')\n",
    "    X=X.reshape(X.shape[0],X.shape[1]*X.shape[2]*X.shape[3])\n",
    "    sc=StandardScaler()\n",
    "    X=sc.fit_transform(X)\n",
    "    print('transformed X')\n",
    "    X=X.reshape(X.shape[0],224,224,3)\n",
    "    le=LabelEncoder()\n",
    "    y=le.fit_transform(y)\n",
    "    print('transformed y')\n",
    "    y=to_categorical(y,num_classes=483,dtype='int')\n",
    "    return X,y"
   ]
  },
  {
   "cell_type": "code",
   "execution_count": null,
   "id": "61eb9df6",
   "metadata": {},
   "outputs": [
    {
     "name": "stdout",
     "output_type": "stream",
     "text": [
      "converted to array\n"
     ]
    }
   ],
   "source": [
    "X,y=img_eng(X,y)\n",
    "X.shape"
   ]
  },
  {
   "cell_type": "markdown",
   "id": "d1865f5a",
   "metadata": {},
   "source": [
    "\n",
    "**-----------------------------------------------------------------------------------------------------------------------------------------------------------------------------------------------------------**"
   ]
  },
  {
   "cell_type": "code",
   "execution_count": 37,
   "id": "670e936f",
   "metadata": {},
   "outputs": [],
   "source": [
    "model = Sequential()\n",
    "model.add(Conv2D(32, (3, 3), activation='relu', input_shape=(224, 224, 3)))\n",
    "model.add(MaxPooling2D((2, 2)))\n",
    "model.add(Conv2D(64, (3, 3), activation='relu'))\n",
    "model.add(MaxPooling2D((2, 2)))\n",
    "model.add(Conv2D(128, (3, 3), activation='relu'))\n",
    "model.add(MaxPooling2D((2, 2)))\n",
    "model.add(Conv2D(256, (3, 3), activation='relu'))\n",
    "model.add(MaxPooling2D((2, 2)))\n",
    "model.add(Conv2D(512, (3, 3), activation='relu'))\n",
    "model.add(MaxPooling2D((2, 2)))\n",
    "model.add(Flatten())\n",
    "model.add(Dense(483, activation='relu'))\n",
    "model.add(Dense(483, activation='softmax'))\n",
    "\n",
    "model.compile(optimizer='adam', loss='categorical_crossentropy', metrics=['accuracy'])\n"
   ]
  },
  {
   "cell_type": "code",
   "execution_count": 38,
   "id": "f89b199b",
   "metadata": {},
   "outputs": [
    {
     "name": "stdout",
     "output_type": "stream",
     "text": [
      "Model: \"sequential_3\"\n",
      "_________________________________________________________________\n",
      " Layer (type)                Output Shape              Param #   \n",
      "=================================================================\n",
      " conv2d_18 (Conv2D)          (None, 222, 222, 32)      896       \n",
      "                                                                 \n",
      " max_pooling2d_17 (MaxPoolin  (None, 111, 111, 32)     0         \n",
      " g2D)                                                            \n",
      "                                                                 \n",
      " conv2d_19 (Conv2D)          (None, 109, 109, 64)      18496     \n",
      "                                                                 \n",
      " max_pooling2d_18 (MaxPoolin  (None, 54, 54, 64)       0         \n",
      " g2D)                                                            \n",
      "                                                                 \n",
      " conv2d_20 (Conv2D)          (None, 52, 52, 128)       73856     \n",
      "                                                                 \n",
      " max_pooling2d_19 (MaxPoolin  (None, 26, 26, 128)      0         \n",
      " g2D)                                                            \n",
      "                                                                 \n",
      " conv2d_21 (Conv2D)          (None, 24, 24, 256)       295168    \n",
      "                                                                 \n",
      " max_pooling2d_20 (MaxPoolin  (None, 12, 12, 256)      0         \n",
      " g2D)                                                            \n",
      "                                                                 \n",
      " conv2d_22 (Conv2D)          (None, 10, 10, 512)       1180160   \n",
      "                                                                 \n",
      " max_pooling2d_21 (MaxPoolin  (None, 5, 5, 512)        0         \n",
      " g2D)                                                            \n",
      "                                                                 \n",
      " flatten_2 (Flatten)         (None, 12800)             0         \n",
      "                                                                 \n",
      " dense_4 (Dense)             (None, 483)               6182883   \n",
      "                                                                 \n",
      " dense_5 (Dense)             (None, 483)               233772    \n",
      "                                                                 \n",
      "=================================================================\n",
      "Total params: 7,985,231\n",
      "Trainable params: 7,985,231\n",
      "Non-trainable params: 0\n",
      "_________________________________________________________________\n"
     ]
    }
   ],
   "source": [
    "model.summary()"
   ]
  },
  {
   "cell_type": "code",
   "execution_count": null,
   "id": "96af66c8",
   "metadata": {},
   "outputs": [],
   "source": [
    "model.fit(X,y,epochs=20,verbose=1)1"
   ]
  },
  {
   "cell_type": "code",
   "execution_count": 74,
   "id": "cdc061ae",
   "metadata": {},
   "outputs": [
    {
     "name": "stdout",
     "output_type": "stream",
     "text": [
      "1/1 [==============================] - 0s 226ms/step\n"
     ]
    },
    {
     "data": {
      "text/plain": [
       "7"
      ]
     },
     "execution_count": 74,
     "metadata": {},
     "output_type": "execute_result"
    }
   ],
   "source": [
    "model.predict(X)[9].argmax()"
   ]
  },
  {
   "cell_type": "code",
   "execution_count": 60,
   "id": "aca40d18",
   "metadata": {},
   "outputs": [
    {
     "data": {
      "text/plain": [
       "array([[[[-6.03801420e-01,  1.14673384e+00,  2.43102629e-01],\n",
       "         [-1.09774063e+00,  1.75811631e-01, -8.72858931e-01],\n",
       "         [-1.05321270e+00,  2.41410785e-01, -1.01499921e+00],\n",
       "         ...,\n",
       "         [-9.10296653e-01, -3.73009687e-01, -1.21037671e+00],\n",
       "         [-7.45385638e-01, -5.95412382e-02, -1.09713176e+00],\n",
       "         [-8.12736189e-01,  2.34575529e-02, -1.15378628e+00]],\n",
       "\n",
       "        [[-6.98627428e-01,  6.73164285e-01, -1.69566320e-01],\n",
       "         [-1.07101448e+00,  1.55016840e-01, -1.01201522e+00],\n",
       "         [-1.01026717e+00,  8.96524359e-02, -1.09399988e+00],\n",
       "         ...,\n",
       "         [-1.02078773e+00, -8.35362571e-01, -1.41085785e+00],\n",
       "         [-8.62665068e-01, -6.12665793e-01, -1.17138594e+00],\n",
       "         [-7.76945907e-01, -5.20666457e-01, -1.17386669e+00]],\n",
       "\n",
       "        [[-7.26601893e-01,  6.28125292e-01, -3.79249241e-01],\n",
       "         [-1.14071871e+00,  3.71699871e-01, -1.06201888e+00],\n",
       "         [-9.95776205e-01,  1.87085054e-01, -1.13167582e+00],\n",
       "         ...,\n",
       "         [-1.09096028e+00, -1.59465171e+00, -1.59376743e+00],\n",
       "         [-1.04986443e+00, -1.31460151e+00, -1.37716566e+00],\n",
       "         [-9.23341327e-01, -1.16531065e+00, -1.38264400e+00]],\n",
       "\n",
       "        ...,\n",
       "\n",
       "        [[-1.07736308e+00, -1.00961458e+00, -1.16719694e+00],\n",
       "         [-1.09424176e+00, -1.11213514e+00, -1.24722495e+00],\n",
       "         [-8.27599974e-01, -1.01398588e+00, -1.10532016e+00],\n",
       "         ...,\n",
       "         [-5.97014925e-01,  1.32013636e-01, -7.23517720e-01],\n",
       "         [-3.12375869e-01,  4.88847125e-01, -4.02597892e-01],\n",
       "         [-3.19726467e-01,  5.51044053e-01, -2.85281561e-01]],\n",
       "\n",
       "        [[-1.01089545e+00, -8.69756426e-01, -1.06481066e+00],\n",
       "         [-1.12521464e+00, -1.09599333e+00, -1.26167993e+00],\n",
       "         [-9.92239965e-01, -1.08647153e+00, -1.23612851e+00],\n",
       "         ...,\n",
       "         [-5.27367250e-01,  1.91054411e-01, -6.10861326e-01],\n",
       "         [-5.73041106e-01,  1.88722993e-01, -6.37407366e-01],\n",
       "         [-5.02805463e-01,  3.68744310e-01, -5.28993547e-01]],\n",
       "\n",
       "        [[-1.14463755e+00, -1.05861439e+00, -1.25247126e+00],\n",
       "         [-1.09665210e+00, -9.61532037e-01, -1.16224477e+00],\n",
       "         [-1.02298568e+00, -1.10494016e+00, -1.21452807e+00],\n",
       "         ...,\n",
       "         [-5.08208593e-01,  3.95092615e-01, -5.24993317e-01],\n",
       "         [-5.71028601e-01,  3.06033910e-01, -5.91259776e-01],\n",
       "         [-5.50922463e-01,  3.00540676e-01, -5.54139903e-01]]],\n",
       "\n",
       "\n",
       "       [[[ 7.52564088e-01,  7.11540734e-01,  1.25402445e+00],\n",
       "         [ 6.42142394e-01,  5.75383519e-01,  1.13371332e+00],\n",
       "         [ 1.09851217e+00,  1.16506944e+00,  1.68360980e+00],\n",
       "         ...,\n",
       "         [ 4.50456076e-01,  8.99959880e-01,  1.00343358e+00],\n",
       "         [ 7.75300780e-01,  1.47599596e+00,  1.50133819e+00],\n",
       "         [ 8.59681239e-01,  1.86096586e+00,  1.69321882e+00]],\n",
       "\n",
       "        [[ 9.63881693e-01,  9.71519647e-01,  1.42270278e+00],\n",
       "         [ 5.32643563e-01,  4.60971131e-01,  1.05948715e+00],\n",
       "         [ 8.48486735e-01,  9.08218155e-01,  1.43513963e+00],\n",
       "         ...,\n",
       "         [ 1.90316356e-01,  6.46732313e-01,  7.72287761e-01],\n",
       "         [ 8.92326904e-01,  1.50698363e+00,  1.44502937e+00],\n",
       "         [ 5.72241596e-01,  1.28511316e+00,  1.27594206e+00]],\n",
       "\n",
       "        [[ 1.11127348e+00,  1.18517830e+00,  1.54950404e+00],\n",
       "         [ 9.15512444e-01,  8.80877777e-01,  1.41186040e+00],\n",
       "         [ 9.71189138e-01,  9.85875173e-01,  1.54003485e+00],\n",
       "         ...,\n",
       "         [-1.25508705e-01,  2.76168732e-01,  4.01639626e-01],\n",
       "         [ 2.69336947e-01,  6.54125390e-01,  6.95176647e-01],\n",
       "         [ 4.41813861e-01,  1.12657457e+00,  1.08541535e+00]],\n",
       "\n",
       "        ...,\n",
       "\n",
       "        [[-1.07736308e+00, -1.31449239e+00, -1.12913617e+00],\n",
       "         [-9.23858094e-01, -1.09963924e+00, -9.53924570e-01],\n",
       "         [-2.56841371e-01, -7.02198775e-01, -5.23572706e-01],\n",
       "         ...,\n",
       "         [-7.61194030e-01, -1.18812273e+00, -8.58895256e-01],\n",
       "         [-4.76784221e-01, -8.90345391e-01, -4.67013554e-01],\n",
       "         [ 2.93327034e-03, -3.40132313e-01,  2.22549490e-01]],\n",
       "\n",
       "        [[-1.01089545e+00, -1.19097329e+00, -8.96903594e-01],\n",
       "         [-1.24242450e+00, -1.33617641e+00, -1.14724184e+00],\n",
       "         [-9.08506635e-01, -1.11373556e+00, -9.36938168e-01],\n",
       "         ...,\n",
       "         [-8.04119743e-01, -1.09173949e+00, -8.59893521e-01],\n",
       "         [-2.63289157e-01, -6.30539611e-01, -2.23705470e-01],\n",
       "         [ 1.25701366e-01, -3.12269956e-01,  3.77852533e-01]],\n",
       "\n",
       "        [[-6.98605078e-02, -6.02876338e-01, -1.05063814e-01],\n",
       "         [-2.55885489e-01, -6.77335376e-01, -3.18680017e-01],\n",
       "         [-5.93546414e-01, -9.58912829e-01, -6.60069601e-01],\n",
       "         ...,\n",
       "         [-6.70187427e-01, -9.11512884e-01, -7.02957153e-01],\n",
       "         [-1.61758955e-01, -5.27226736e-01, -1.01458778e-01],\n",
       "         [ 2.10803129e-01, -2.33414840e-01,  4.51935425e-01]]],\n",
       "\n",
       "\n",
       "       [[[ 1.16822449e+00,  6.46261768e-01,  8.44841810e-01],\n",
       "         [ 1.50311544e+00,  1.21469854e+00,  1.25410766e+00],\n",
       "         [ 1.36275908e+00,  1.01812375e+00,  9.58610362e-01],\n",
       "         ...,\n",
       "         [ 4.50456076e-01, -1.77623660e-02, -7.94084125e-02],\n",
       "         [ 1.12431078e+00,  8.17908587e-01,  5.82687201e-01],\n",
       "         [ 6.54296643e-01,  4.53512689e-01,  1.04889662e-01]],\n",
       "\n",
       "        [[ 1.37483900e+00,  9.71519647e-01,  1.00912639e+00],\n",
       "         [ 1.33447258e+00,  1.05248276e+00,  9.51596403e-01],\n",
       "         [ 1.70902095e+00,  1.53188727e+00,  1.37632243e+00],\n",
       "         ...,\n",
       "         [ 5.36346094e-01,  1.41472694e-01, -4.63918443e-02],\n",
       "         [ 1.01591789e+00,  8.10112589e-01,  5.08880776e-01],\n",
       "         [ 1.52597759e+00,  1.70646174e+00,  1.27594206e+00]],\n",
       "\n",
       "        [[ 5.55636742e-01,  3.26548317e-02,  7.58498483e-02],\n",
       "         [ 4.74891482e-01, -3.56424534e-02, -8.74603785e-02],\n",
       "         [ 1.05314603e+00,  6.91584076e-01,  5.62579727e-01],\n",
       "         ...,\n",
       "         [ 1.61230414e+00,  1.79064243e+00,  1.34817887e+00],\n",
       "         [ 1.35034918e+00,  1.45855144e+00,  1.14732406e+00],\n",
       "         [ 4.16992857e-01,  2.87292654e-01,  1.30037535e-01]],\n",
       "\n",
       "        ...,\n",
       "\n",
       "        [[-9.03339673e-01, -1.25586204e+00, -1.21794463e+00],\n",
       "         [-8.48132020e-01, -1.17461464e+00, -1.10755810e+00],\n",
       "         [-9.09136917e-01, -1.24443721e+00, -1.15124759e+00],\n",
       "         ...,\n",
       "         [-5.82089552e-01, -1.08544545e+00, -7.53601617e-01],\n",
       "         [-4.76784221e-01, -9.82291559e-01, -6.60260542e-01],\n",
       "         [-2.17062005e-01, -6.66896980e-01, -3.74898806e-01]],\n",
       "\n",
       "        [[-8.58881099e-01, -1.17861879e+00, -1.17674871e+00],\n",
       "         [-9.68934827e-01, -1.27297034e+00, -1.21876564e+00],\n",
       "         [-1.09690663e+00, -1.34547980e+00, -1.29911595e+00],\n",
       "         ...,\n",
       "         [-1.89114203e-01, -6.55043694e-01, -3.47180178e-01],\n",
       "         [-5.57553509e-01, -1.02554122e+00, -7.44663413e-01],\n",
       "         [-5.02805463e-01, -1.07633474e+00, -7.64101790e-01]],\n",
       "\n",
       "        [[-1.05507280e+00, -1.38414157e+00, -1.32159219e+00],\n",
       "         [-1.06009703e+00, -1.26941175e+00, -1.25597418e+00],\n",
       "         [-1.03832280e+00, -1.40916378e+00, -1.29373642e+00],\n",
       "         ...,\n",
       "         [-7.10682136e-01, -1.11372564e+00, -8.45328222e-01],\n",
       "         [-4.15116355e-01, -8.45380801e-01, -5.91259776e-01],\n",
       "         [-6.39495206e-01, -1.13351128e+00, -8.89498345e-01]]],\n",
       "\n",
       "\n",
       "       ...,\n",
       "\n",
       "\n",
       "       [[[ 1.38699312e+00,  1.89309003e-01,  9.65189646e-01],\n",
       "         [ 7.85637902e-01,  7.59186588e-02,  6.72201705e-01],\n",
       "         [ 6.26642681e-01,  1.04961211e-02,  6.56527265e-01],\n",
       "         ...,\n",
       "         [ 2.25697263e+00,  1.52164269e+00,  1.72532823e+00],\n",
       "         [ 2.22119934e+00,  1.47599596e+00,  1.73756273e+00],\n",
       "         [ 1.76924159e+00,  9.61759668e-01,  1.36356560e+00]],\n",
       "\n",
       "        [[ 9.45201815e-01,  1.86472101e-03,  6.78265278e-01],\n",
       "         [ 7.42646402e-01, -2.85557338e-02,  6.71080457e-01],\n",
       "         [ 6.07537155e-01, -4.67751839e-02,  5.92093127e-01],\n",
       "         ...,\n",
       "         [ 2.49718128e+00,  1.85935540e+00,  1.97301785e+00],\n",
       "         [ 1.95520937e+00,  1.50698363e+00,  1.61305604e+00],\n",
       "         [ 1.47945388e+00,  9.84149892e-01,  1.30146090e+00]],\n",
       "\n",
       "        [[ 9.61678976e-01, -4.41800664e-02,  7.04320020e-01],\n",
       "         [ 1.40509129e+00,  4.22617662e-01,  1.18696228e+00],\n",
       "         [ 8.07275360e-01, -8.61852496e-02,  6.06022177e-01],\n",
       "         ...,\n",
       "         [ 1.58816785e+00,  1.22642674e+00,  1.37376101e+00],\n",
       "         [ 1.64350504e+00,  1.54322786e+00,  1.58063200e+00],\n",
       "         [ 1.90625306e+00,  1.80445611e+00,  1.80194870e+00]],\n",
       "\n",
       "        ...,\n",
       "\n",
       "        [[ 1.99177697e+00,  9.25186879e-01,  1.42093541e+00],\n",
       "         [ 2.14304787e+00,  8.99704833e-01,  1.44834521e+00],\n",
       "         [ 2.18926693e+00,  9.38072495e-01,  1.49723423e+00],\n",
       "         ...,\n",
       "         [ 2.38805970e-01, -1.32013636e-01,  2.24125032e-01],\n",
       "         [-1.92806158e-01, -6.14506888e-01, -1.77143072e-01],\n",
       "         [-3.93058226e-01, -7.85720496e-01, -4.94388465e-01]],\n",
       "\n",
       "        [[ 2.14340239e+00,  7.98100357e-01,  1.35584958e+00],\n",
       "         [ 1.76596186e+00,  6.23211893e-01,  1.15582469e+00],\n",
       "         [ 1.70815994e+00,  6.03898229e-01,  1.14164735e+00],\n",
       "         ...,\n",
       "         [-6.81118635e-01, -1.03715252e+00, -7.71999805e-01],\n",
       "         [-7.74379873e-02, -5.57391165e-01, -1.62416300e-01],\n",
       "         [-2.48005397e-01, -7.77352870e-01, -4.45026317e-01]],\n",
       "\n",
       "        [[ 1.09448129e+00,  1.39325633e-01,  5.58497118e-01],\n",
       "         [ 2.19330419e-01, -3.81297187e-01, -5.08816834e-02],\n",
       "         [ 1.63033550e+00,  8.29922017e-01,  1.24093085e+00],\n",
       "         ...,\n",
       "         [-4.47466530e-01, -9.27067712e-01, -6.67364386e-01],\n",
       "         [-7.65918908e-01, -1.19383525e+00, -9.58610524e-01],\n",
       "         [-3.38347879e-01, -8.28393843e-01, -5.38170453e-01]]],\n",
       "\n",
       "\n",
       "       [[[-1.12884613e+00, -1.81257930e+00, -1.82688015e+00],\n",
       "         [-1.06186675e+00, -1.72215484e+00, -1.61529066e+00],\n",
       "         [-1.10983704e+00, -1.77384446e+00, -1.53860991e+00],\n",
       "         ...,\n",
       "         [-6.75684114e-01, -4.02613630e-01, -2.95976810e-01],\n",
       "         [-6.45668496e-01, -2.47566201e-01, -2.04727935e-01],\n",
       "         [-9.00758159e-01, -4.45693504e-01, -3.74605935e-01]],\n",
       "\n",
       "        [[-1.05354511e+00, -1.69503140e+00, -1.69979896e+00],\n",
       "         [-1.05192331e+00, -1.72150281e+00, -1.65935971e+00],\n",
       "         [-1.02747785e+00, -1.70339628e+00, -1.54493173e+00],\n",
       "         ...,\n",
       "         [-3.86399874e-01,  1.41472694e-01,  9.00547565e-02],\n",
       "         [-6.64919494e-01, -2.06157684e-01, -2.11233530e-01],\n",
       "         [-8.69993321e-01, -4.90570130e-01, -4.84857982e-01]],\n",
       "\n",
       "        [[-9.83049620e-01, -1.58087803e+00, -1.59284681e+00],\n",
       "         [-1.14071871e+00, -1.99597739e+00, -1.76170191e+00],\n",
       "         [-1.05724387e+00, -1.74682786e+00, -1.58782155e+00],\n",
       "         ...,\n",
       "         [-6.32370784e-01, -1.69264707e-01, -2.63496060e-01],\n",
       "         [-6.65097359e-01, -2.77315295e-01, -3.40994507e-01],\n",
       "         [-7.49594303e-01, -2.29188522e-01, -3.21113098e-01]],\n",
       "\n",
       "        ...,\n",
       "\n",
       "        [[-6.97675650e-01, -3.88132899e-01, -5.07476931e-01],\n",
       "         [-7.15611392e-01, -3.49885213e-01, -4.65090603e-01],\n",
       "         [-4.81067965e-01, -1.87072261e-01, -2.78626411e-01],\n",
       "         ...,\n",
       "         [-6.26865672e-01, -6.16063636e-01, -5.88140184e-01],\n",
       "         [-5.96353931e-01, -6.60479972e-01, -6.28052711e-01],\n",
       "         [-6.42386205e-01, -8.30279314e-01, -7.78176405e-01]],\n",
       "\n",
       "        [[-5.92855980e-01, -2.64386186e-01, -3.79190131e-01],\n",
       "         [-7.93120040e-01, -3.88085297e-01, -5.03527589e-01],\n",
       "         [-7.20106641e-01, -3.23078736e-01, -4.48785509e-01],\n",
       "         ...,\n",
       "         [-5.42742389e-01, -4.23049052e-01, -4.20424941e-01],\n",
       "         [-7.12429483e-01, -6.89058369e-01, -6.68051951e-01],\n",
       "         [-7.57605528e-01, -7.77352870e-01, -7.30514898e-01]],\n",
       "\n",
       "        [[-8.04291487e-01, -4.72665466e-01, -5.75086142e-01],\n",
       "         [-7.85934003e-01, -4.16821770e-01, -5.32918684e-01],\n",
       "         [-8.54277397e-01, -5.69506604e-01, -6.73270993e-01],\n",
       "         ...,\n",
       "         [-5.89198010e-01, -3.67093926e-01, -3.64825864e-01],\n",
       "         [-7.85407939e-01, -5.57527123e-01, -5.73766883e-01],\n",
       "         [-8.52069790e-01, -7.67370355e-01, -7.45773298e-01]]],\n",
       "\n",
       "\n",
       "       [[[-2.53771611e-01, -7.89875494e-01, -9.12236598e-01],\n",
       "         [-5.73982029e-02, -9.03032468e-01, -7.72530318e-01],\n",
       "         [ 4.15245150e-02, -1.01812375e+00, -6.92777237e-01],\n",
       "         ...,\n",
       "         [ 2.15843536e-01, -1.05390039e+00, -4.88482052e-01],\n",
       "         [-4.46234211e-01, -1.65775342e+00, -1.12337893e+00],\n",
       "         [ 6.74835103e-02, -8.75748640e-01, -5.54416783e-01]],\n",
       "\n",
       "        [[-2.50310362e-01, -6.69434843e-01, -7.48573264e-01],\n",
       "         [ 2.84458390e-01, -4.56891740e-01, -3.43092581e-01],\n",
       "         [ 2.80534154e-01, -5.34016683e-01, -2.70559111e-01],\n",
       "         ...,\n",
       "         [-4.15235686e-01, -1.67746194e+00, -1.02880737e+00],\n",
       "         [-6.40201297e-01, -1.51279089e+00, -1.09937451e+00],\n",
       "         [ 6.04808191e-02, -4.90570130e-01, -3.82782617e-01]],\n",
       "\n",
       "        [[-6.62489961e-01, -1.00461629e+00, -1.11607634e+00],\n",
       "         [ 2.54581001e-01, -4.93902569e-01, -3.62335854e-01],\n",
       "         [-9.42504227e-02, -8.00892198e-01, -5.88645197e-01],\n",
       "         ...,\n",
       "         [ 3.33080795e-01, -2.07868938e-02,  1.20236066e-01],\n",
       "         [-4.26908222e-01, -7.64204744e-01, -6.61265591e-01],\n",
       "         [ 1.93603827e-01, -1.00068228e-01, -1.08806917e-01]],\n",
       "\n",
       "        ...,\n",
       "\n",
       "        [[-6.18574102e-01, -8.45449607e-01, -8.11963090e-01],\n",
       "         [-6.39885319e-01, -7.87241729e-01, -8.56157777e-01],\n",
       "         [-4.81067965e-01, -6.34418971e-01, -8.14446432e-01],\n",
       "         ...,\n",
       "         [ 4.62686567e-01,  3.08031818e-01,  1.94041135e-01],\n",
       "         [ 3.75149967e-01,  3.66252235e-01,  1.44935241e-01],\n",
       "         [ 1.78929491e-01,  3.13397022e-01, -1.64298281e-02]],\n",
       "\n",
       "        [[-8.39879305e-01, -9.56237889e-01, -1.09279517e+00],\n",
       "         [-4.21955489e-01, -6.15627164e-01, -7.18099005e-01],\n",
       "         [-4.27039985e-01, -5.68454992e-01, -7.00735269e-01],\n",
       "         ...,\n",
       "         [ 3.33640505e-01,  1.36467436e-01,  7.76394491e-02],\n",
       "         [ 7.74379873e-02,  2.77964098e-02, -1.77738593e-01],\n",
       "         [ 1.59674708e-01,  2.35863478e-01, -1.25950844e-01]],\n",
       "\n",
       "        [[-9.47595093e-01, -1.09767765e+00, -1.23864707e+00],\n",
       "         [-1.02354196e+00, -1.03258120e+00, -1.16224477e+00],\n",
       "         [-7.16243347e-01, -8.37223384e-01, -9.24097442e-01],\n",
       "         ...,\n",
       "         [ 5.24406476e-01,  1.92879859e-01,  1.86862028e-01],\n",
       "         [ 6.37291305e-01,  4.12085265e-01,  3.00877756e-01],\n",
       "         [ 1.04515837e-01,  1.17470213e-01, -2.02812010e-01]]]])"
      ]
     },
     "execution_count": 60,
     "metadata": {},
     "output_type": "execute_result"
    }
   ],
   "source": [
    "X"
   ]
  },
  {
   "cell_type": "code",
   "execution_count": null,
   "id": "ac9c1b0c",
   "metadata": {},
   "outputs": [],
   "source": []
  },
  {
   "cell_type": "code",
   "execution_count": null,
   "id": "bda9a2c0",
   "metadata": {},
   "outputs": [],
   "source": []
  },
  {
   "cell_type": "code",
   "execution_count": null,
   "id": "fb81e843",
   "metadata": {},
   "outputs": [],
   "source": []
  },
  {
   "cell_type": "code",
   "execution_count": null,
   "id": "8e235ae8",
   "metadata": {},
   "outputs": [],
   "source": []
  },
  {
   "cell_type": "code",
   "execution_count": null,
   "id": "c8eacdc0",
   "metadata": {},
   "outputs": [],
   "source": []
  },
  {
   "cell_type": "code",
   "execution_count": null,
   "id": "32d18cfb",
   "metadata": {},
   "outputs": [],
   "source": []
  },
  {
   "cell_type": "code",
   "execution_count": null,
   "id": "e14ce972",
   "metadata": {},
   "outputs": [],
   "source": []
  },
  {
   "cell_type": "code",
   "execution_count": null,
   "id": "218e03bf",
   "metadata": {},
   "outputs": [],
   "source": []
  },
  {
   "cell_type": "code",
   "execution_count": null,
   "id": "ce293749",
   "metadata": {},
   "outputs": [],
   "source": []
  },
  {
   "cell_type": "code",
   "execution_count": null,
   "id": "2995f128",
   "metadata": {},
   "outputs": [],
   "source": []
  },
  {
   "cell_type": "code",
   "execution_count": null,
   "id": "aa48f429",
   "metadata": {},
   "outputs": [],
   "source": []
  },
  {
   "cell_type": "code",
   "execution_count": null,
   "id": "860893d6",
   "metadata": {},
   "outputs": [],
   "source": []
  },
  {
   "cell_type": "code",
   "execution_count": 50,
   "id": "021553b4",
   "metadata": {},
   "outputs": [],
   "source": [
    "from tensorflow.keras.applications.resnet50 import ResNet50\n",
    "from tensorflow.keras.layers import Dense, GlobalAveragePooling2D\n",
    "from tensorflow.keras.models import Model\n",
    "\n",
    "# Load the ResNet-50 model with pre-trained weights\n",
    "base_model = ResNet50(weights='imagenet', include_top=False, input_shape=(224, 224, 3))\n",
    "\n",
    "# Add a global average pooling layer and a dense output layer\n",
    "x = base_model.output\n",
    "x = GlobalAveragePooling2D()(x)\n",
    "x = Dense(2048, activation='relu')(x)\n",
    "x = Dense(1024, activation='relu')(x)\n",
    "x = Dense(512, activation='relu')(x)\n",
    "predictions = Dense(80000, activation='softmax')(x)\n",
    "\n",
    "# Create the final model by combining the ResNet-50 base model with the new dense layers\n",
    "model1 = Model(inputs=base_model.input, outputs=predictions)\n",
    "\n",
    "# Freeze the weights of the base ResNet-50 layers to prevent them from being updated during training\n",
    "for layer in base_model.layers:\n",
    "    layer.trainable = False\n",
    "\n",
    "# Compile the model with the Adam optimizer and categorical crossentropy loss\n",
    "model1.compile(optimizer='adam', loss='categorical_crossentropy', metrics=['accuracy'])\n"
   ]
  },
  {
   "cell_type": "markdown",
   "id": "68171e6a",
   "metadata": {},
   "source": [
    "**-------------------------------------------------------------------------------------------------------------------------------------------------------------------------------------------------------------**"
   ]
  },
  {
   "cell_type": "code",
   "execution_count": null,
   "id": "31b437b6",
   "metadata": {},
   "outputs": [],
   "source": [
    "# exporting the model"
   ]
  },
  {
   "cell_type": "code",
   "execution_count": 12,
   "id": "3f36143c",
   "metadata": {},
   "outputs": [
    {
     "data": {
      "text/plain": [
       "['./models/model_pre_efficientnet_v2_imagenet21k_ft1k_xl.joblib']"
      ]
     },
     "execution_count": 12,
     "metadata": {},
     "output_type": "execute_result"
    }
   ],
   "source": [
    "from joblib import load,dump\n",
    "\n",
    "dump(model,filename='./models/model_pre_efficientnet_v2_imagenet21k_ft1k_xl.joblib')"
   ]
  },
  {
   "cell_type": "code",
   "execution_count": null,
   "id": "70cac928",
   "metadata": {},
   "outputs": [],
   "source": [
    "loaded_model=load(filename='model_pre_name.joblib')"
   ]
  },
  {
   "cell_type": "code",
   "execution_count": null,
   "id": "c9226e7f",
   "metadata": {
    "collapsed": true
   },
   "outputs": [],
   "source": []
  },
  {
   "cell_type": "code",
   "execution_count": null,
   "id": "5ab14472",
   "metadata": {},
   "outputs": [],
   "source": []
  },
  {
   "cell_type": "code",
   "execution_count": null,
   "id": "fa1a6c1d",
   "metadata": {},
   "outputs": [],
   "source": []
  }
 ],
 "metadata": {
  "kernelspec": {
   "display_name": "Python 3 (ipykernel)",
   "language": "python",
   "name": "python3"
  },
  "language_info": {
   "codemirror_mode": {
    "name": "ipython",
    "version": 3
   },
   "file_extension": ".py",
   "mimetype": "text/x-python",
   "name": "python",
   "nbconvert_exporter": "python",
   "pygments_lexer": "ipython3",
   "version": "3.9.13"
  }
 },
 "nbformat": 4,
 "nbformat_minor": 5
}
